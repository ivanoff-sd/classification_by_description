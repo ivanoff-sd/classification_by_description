{
 "cells": [
  {
   "cell_type": "markdown",
   "id": "33083b59",
   "metadata": {},
   "source": [
    "# Классификация продукции по текстовому описанию\n",
    "\n",
    "## Описание проекта\n",
    "### Цель работы\n",
    "Необходимо создать модель, обрабатывающую фрагмент текста и определяющую, какой вид продукции в нем содержится.\n",
    "\n",
    "### Требования к проекту\n",
    "- Требования к метрике классификации (вид, значение) заказчиком не указаны.\n",
    "- Датасет должен быть разделен на обучающую и тестовую выборки в соотношении 80%/20%.\n",
    "- Классифицируем те виды продукции, для которых в датасете содержится 500 и более примеров.\n",
    "- Модель должна быть проверена на образцах:\n",
    "    - Говядина блочная 2 сорт в наличии ООО \"АгроСоюз\" реализует блочную говядину 2 сорт (80/20)\n",
    "        Свободный объем 8 тонн Самовывоз или доставка. Все подробности по телефону.\n",
    "    \n",
    "    - Куриная разделка Продам кур и куриную разделку гост и халяль по хорошей цене .Тел:\n",
    "\n",
    "    - Говяжью мукозу Продам говяжью мукозу в охл и замороженном виде. Есть объем.\n",
    "\n",
    "### Описание данных\n",
    "\n",
    "Датасет: https://axe.inline-ltd.ru/data/meatinfo.csv\n",
    "\n",
    "В данных содержится 17893 записей, в каждой из них отрывок текста (описание продукции) и класс, к которой продукция относится. Примеры классов:\n",
    "\n",
    "- Баранина\n",
    "- Ягнятина\n",
    "- Индейка\n",
    "- Говядина\n",
    "- Свинина\n",
    "- Кура\n",
    "- Цыпленок\n",
    "- Гусь\n",
    "- Буйволятина\n",
    "- Оленина\n",
    "- Конина\n",
    "- Телятина\n",
    "\n",
    "и другие\n",
    "\n",
    "### План выполнения работы\n",
    "\n",
    "- загрузка и предварительная обработка данных;\n",
    "- токенизация текста;\n",
    "- создание эмбеддингов;\n",
    "- кодирование целевого признака;\n",
    "- обучение классификаторов;\n",
    "- проверка оптимального классификатора на тестовой выборке и образцах;\n",
    "- вывод.\n",
    "\n",
    "## Загрузка и предобработка данных\n",
    "### импорт библиотек"
   ]
  },
  {
   "cell_type": "code",
   "execution_count": 182,
   "id": "4d43d78a",
   "metadata": {},
   "outputs": [],
   "source": [
    "import pandas as pd\n",
    "\n",
    "import numpy as np\n",
    "\n",
    "import re\n",
    "\n",
    "import torch\n",
    "import transformers\n",
    "from tqdm import notebook\n",
    "\n",
    "from sklearn.inspection import permutation_importance\n",
    "from sklearn.preprocessing import OrdinalEncoder\n",
    "from sklearn.model_selection import train_test_split\n",
    "from sklearn.linear_model import LogisticRegression\n",
    "from sklearn.pipeline import Pipeline\n",
    "from sklearn.model_selection import GridSearchCV\n",
    "from sklearn.preprocessing import StandardScaler\n",
    "from sklearn.svm import SVC\n",
    "from lightgbm import LGBMClassifier\n",
    "from sklearn.metrics import accuracy_score"
   ]
  },
  {
   "cell_type": "code",
   "execution_count": 2,
   "id": "f7d8aa14",
   "metadata": {},
   "outputs": [],
   "source": [
    "df = pd.read_csv('meatinfo.csv', sep=';')"
   ]
  },
  {
   "cell_type": "code",
   "execution_count": 3,
   "id": "ac2da8f4",
   "metadata": {
    "scrolled": true
   },
   "outputs": [
    {
     "data": {
      "text/html": [
       "<div>\n",
       "<style scoped>\n",
       "    .dataframe tbody tr th:only-of-type {\n",
       "        vertical-align: middle;\n",
       "    }\n",
       "\n",
       "    .dataframe tbody tr th {\n",
       "        vertical-align: top;\n",
       "    }\n",
       "\n",
       "    .dataframe thead th {\n",
       "        text-align: right;\n",
       "    }\n",
       "</style>\n",
       "<table border=\"1\" class=\"dataframe\">\n",
       "  <thead>\n",
       "    <tr style=\"text-align: right;\">\n",
       "      <th></th>\n",
       "      <th>text</th>\n",
       "      <th>mtype</th>\n",
       "    </tr>\n",
       "  </thead>\n",
       "  <tbody>\n",
       "    <tr>\n",
       "      <th>0</th>\n",
       "      <td>12 частей баранина  12 частей баранина</td>\n",
       "      <td>Баранина</td>\n",
       "    </tr>\n",
       "    <tr>\n",
       "      <th>1</th>\n",
       "      <td>Баранина, 12 частей, зам. цена 260 руб.</td>\n",
       "      <td>Баранина</td>\n",
       "    </tr>\n",
       "    <tr>\n",
       "      <th>2</th>\n",
       "      <td>Баранина, 12 частей, зам. цена 315 руб.</td>\n",
       "      <td>Баранина</td>\n",
       "    </tr>\n",
       "    <tr>\n",
       "      <th>3</th>\n",
       "      <td>Баранина, 12 частей, охл.</td>\n",
       "      <td>Баранина</td>\n",
       "    </tr>\n",
       "    <tr>\n",
       "      <th>4</th>\n",
       "      <td>Баранина, 12 частей, охл. цена 220 руб.</td>\n",
       "      <td>Баранина</td>\n",
       "    </tr>\n",
       "    <tr>\n",
       "      <th>...</th>\n",
       "      <td>...</td>\n",
       "      <td>...</td>\n",
       "    </tr>\n",
       "    <tr>\n",
       "      <th>17888</th>\n",
       "      <td>Ягнятина, шея, бк</td>\n",
       "      <td>Ягнятина</td>\n",
       "    </tr>\n",
       "    <tr>\n",
       "      <th>17889</th>\n",
       "      <td>Язык ягненка (н.зеландия) Отварные языки ягнят...</td>\n",
       "      <td>Ягнятина</td>\n",
       "    </tr>\n",
       "    <tr>\n",
       "      <th>17890</th>\n",
       "      <td>Ягнятина, язык, зачищ. цена 100 руб.</td>\n",
       "      <td>Ягнятина</td>\n",
       "    </tr>\n",
       "    <tr>\n",
       "      <th>17891</th>\n",
       "      <td>Як, задние части, 1 категория цена 550 руб.</td>\n",
       "      <td>Як</td>\n",
       "    </tr>\n",
       "    <tr>\n",
       "      <th>17892</th>\n",
       "      <td>Як, туши, 1 категория цена 150 руб.</td>\n",
       "      <td>Як</td>\n",
       "    </tr>\n",
       "  </tbody>\n",
       "</table>\n",
       "<p>17893 rows × 2 columns</p>\n",
       "</div>"
      ],
      "text/plain": [
       "                                                    text     mtype\n",
       "0                 12 частей баранина  12 частей баранина  Баранина\n",
       "1                Баранина, 12 частей, зам. цена 260 руб.  Баранина\n",
       "2                Баранина, 12 частей, зам. цена 315 руб.  Баранина\n",
       "3                              Баранина, 12 частей, охл.  Баранина\n",
       "4                Баранина, 12 частей, охл. цена 220 руб.  Баранина\n",
       "...                                                  ...       ...\n",
       "17888                                  Ягнятина, шея, бк  Ягнятина\n",
       "17889  Язык ягненка (н.зеландия) Отварные языки ягнят...  Ягнятина\n",
       "17890               Ягнятина, язык, зачищ. цена 100 руб.  Ягнятина\n",
       "17891        Як, задние части, 1 категория цена 550 руб.        Як\n",
       "17892                Як, туши, 1 категория цена 150 руб.        Як\n",
       "\n",
       "[17893 rows x 2 columns]"
      ]
     },
     "execution_count": 3,
     "metadata": {},
     "output_type": "execute_result"
    }
   ],
   "source": [
    "df"
   ]
  },
  {
   "cell_type": "code",
   "execution_count": 4,
   "id": "ae2f473b",
   "metadata": {
    "scrolled": true
   },
   "outputs": [
    {
     "data": {
      "text/plain": [
       "Говядина                                                                                   8422\n",
       "Свинина                                                                                    3050\n",
       "Кура                                                                                       1571\n",
       "Индейка                                                                                    1337\n",
       "Баранина                                                                                   1116\n",
       "Цыпленок                                                                                    942\n",
       "Кролик                                                                                      334\n",
       "Утка                                                                                        195\n",
       "Оленина                                                                                     193\n",
       "Конина                                                                                      176\n",
       "Гусь                                                                                        125\n",
       "Телятина                                                                                     98\n",
       "Ягнятина                                                                                     76\n",
       "Буйволятина                                                                                  75\n",
       "Перепел                                                                                      54\n",
       "Кабан                                                                                        24\n",
       "Лось                                                                                         20\n",
       "Страус                                                                                       10\n",
       "Косуля                                                                                        8\n",
       "Куропатка                                                                                     7\n",
       "Цесарка                                                                                       7\n",
       "Марал                                                                                         7\n",
       "Медвежатина                                                                                   4\n",
       "Фазан                                                                                         4\n",
       "свинина                                                                                       3\n",
       "Изюбр                                                                                         3\n",
       "Парагвай                                                                                      2\n",
       "цыпленок                                                                                      2\n",
       "индейка                                                                                       2\n",
       "Feb-20                                                                                        2\n",
       "Нутрия                                                                                        2\n",
       "Як                                                                                            2\n",
       "Заяц                                                                                          2\n",
       "Кенгуру                                                                                       2\n",
       "Говядина, полутуши, 1 категория,  охл., Россия, подвес, В наличии, 10 тонн, 270 руб. кг       1\n",
       "утка                                                                                          1\n",
       "Глухарь                                                                                       1\n",
       "говядина                                                                                      1\n",
       "Тетерев                                                                                       1\n",
       "Рябчик                                                                                        1\n",
       "свиниеа                                                                                       1\n",
       " Лопаточная часть (Chuck) буйвол                                                              1\n",
       "125р.                                                                                         1\n",
       "OFFAL EXP №4407 Аргентина                                                                     1\n",
       "(OFFAL EXP №4407 Аргентина)                                                                   1\n",
       "Mar-20                                                                                        1\n",
       "295,00 руб|кг                                                                                 1\n",
       "Коза                                                                                          1\n",
       "Бобер                                                                                         1\n",
       "Name: mtype, dtype: int64"
      ]
     },
     "execution_count": 4,
     "metadata": {},
     "output_type": "execute_result"
    }
   ],
   "source": [
    "df['mtype'].value_counts()"
   ]
  },
  {
   "cell_type": "markdown",
   "id": "40be6ea3",
   "metadata": {},
   "source": [
    "### Предварительная обработка данных\n",
    "\n",
    "В данных будут удалены пропуски.\n",
    "\n",
    "В поле 'mtype' присутствуют неявные дубликаты ввиду ошибок в написании названия и различия регистров. Ниже это будет исправлено:"
   ]
  },
  {
   "cell_type": "code",
   "execution_count": 5,
   "id": "aa93a316",
   "metadata": {
    "scrolled": true
   },
   "outputs": [
    {
     "data": {
      "text/plain": [
       "text     0\n",
       "mtype    1\n",
       "dtype: int64"
      ]
     },
     "execution_count": 5,
     "metadata": {},
     "output_type": "execute_result"
    }
   ],
   "source": [
    "df.isna().sum()"
   ]
  },
  {
   "cell_type": "code",
   "execution_count": 6,
   "id": "191c0b62",
   "metadata": {},
   "outputs": [],
   "source": [
    "df = df.dropna()"
   ]
  },
  {
   "cell_type": "code",
   "execution_count": 7,
   "id": "ef4c8d3e",
   "metadata": {
    "scrolled": true
   },
   "outputs": [
    {
     "name": "stderr",
     "output_type": "stream",
     "text": [
      "C:\\Users\\Acer\\AppData\\Local\\Temp\\ipykernel_2868\\1319932684.py:1: SettingWithCopyWarning: \n",
      "A value is trying to be set on a copy of a slice from a DataFrame\n",
      "\n",
      "See the caveats in the documentation: https://pandas.pydata.org/pandas-docs/stable/user_guide/indexing.html#returning-a-view-versus-a-copy\n",
      "  df.loc[df['mtype'].str.contains('свин'),'mtype'] = 'Свинина'\n"
     ]
    }
   ],
   "source": [
    "df.loc[df['mtype'].str.contains('свин'),'mtype'] = 'Свинина'"
   ]
  },
  {
   "cell_type": "code",
   "execution_count": 8,
   "id": "b9e6f23a",
   "metadata": {
    "scrolled": true
   },
   "outputs": [
    {
     "name": "stderr",
     "output_type": "stream",
     "text": [
      "C:\\Users\\Acer\\AppData\\Local\\Temp\\ipykernel_2868\\2790107127.py:1: SettingWithCopyWarning: \n",
      "A value is trying to be set on a copy of a slice from a DataFrame\n",
      "\n",
      "See the caveats in the documentation: https://pandas.pydata.org/pandas-docs/stable/user_guide/indexing.html#returning-a-view-versus-a-copy\n",
      "  df.loc[(df['mtype'].str.contains('Говядин'))|\n"
     ]
    }
   ],
   "source": [
    "df.loc[(df['mtype'].str.contains('Говядин'))|\n",
    "      (df['mtype'].str.contains('говядин')) ,'mtype'] = 'Говядина'"
   ]
  },
  {
   "cell_type": "code",
   "execution_count": 9,
   "id": "bda3a754",
   "metadata": {
    "scrolled": true
   },
   "outputs": [
    {
     "name": "stderr",
     "output_type": "stream",
     "text": [
      "C:\\Users\\Acer\\AppData\\Local\\Temp\\ipykernel_2868\\1049553118.py:1: SettingWithCopyWarning: \n",
      "A value is trying to be set on a copy of a slice from a DataFrame\n",
      "\n",
      "See the caveats in the documentation: https://pandas.pydata.org/pandas-docs/stable/user_guide/indexing.html#returning-a-view-versus-a-copy\n",
      "  df.loc[df['mtype'].str.contains('цыпл'),'mtype'] = 'Цыпленок'\n"
     ]
    }
   ],
   "source": [
    "df.loc[df['mtype'].str.contains('цыпл'),'mtype'] = 'Цыпленок'"
   ]
  },
  {
   "cell_type": "code",
   "execution_count": 10,
   "id": "49b2a302",
   "metadata": {
    "scrolled": true
   },
   "outputs": [
    {
     "name": "stderr",
     "output_type": "stream",
     "text": [
      "C:\\Users\\Acer\\AppData\\Local\\Temp\\ipykernel_2868\\402552523.py:1: SettingWithCopyWarning: \n",
      "A value is trying to be set on a copy of a slice from a DataFrame\n",
      "\n",
      "See the caveats in the documentation: https://pandas.pydata.org/pandas-docs/stable/user_guide/indexing.html#returning-a-view-versus-a-copy\n",
      "  df.loc[df['mtype'].str.contains('индейк'),'mtype'] = 'Индейка'\n"
     ]
    }
   ],
   "source": [
    "df.loc[df['mtype'].str.contains('индейк'),'mtype'] = 'Индейка'\n"
   ]
  },
  {
   "cell_type": "markdown",
   "id": "de3807d8",
   "metadata": {},
   "source": [
    "В столбце mtype присутствуют небольшое количество ошибочных значений. Рассмотрим их поближе и устраним."
   ]
  },
  {
   "cell_type": "code",
   "execution_count": 11,
   "id": "160aaffb",
   "metadata": {},
   "outputs": [],
   "source": [
    "filter = df['mtype'].value_counts()<3"
   ]
  },
  {
   "cell_type": "code",
   "execution_count": 12,
   "id": "c7b81a74",
   "metadata": {},
   "outputs": [],
   "source": [
    "filter = list(filter[filter==True].index)"
   ]
  },
  {
   "cell_type": "code",
   "execution_count": 13,
   "id": "b5820ea3",
   "metadata": {
    "scrolled": false
   },
   "outputs": [
    {
     "data": {
      "text/html": [
       "<div>\n",
       "<style scoped>\n",
       "    .dataframe tbody tr th:only-of-type {\n",
       "        vertical-align: middle;\n",
       "    }\n",
       "\n",
       "    .dataframe tbody tr th {\n",
       "        vertical-align: top;\n",
       "    }\n",
       "\n",
       "    .dataframe thead th {\n",
       "        text-align: right;\n",
       "    }\n",
       "</style>\n",
       "<table border=\"1\" class=\"dataframe\">\n",
       "  <thead>\n",
       "    <tr style=\"text-align: right;\">\n",
       "      <th></th>\n",
       "      <th>text</th>\n",
       "      <th>mtype</th>\n",
       "    </tr>\n",
       "  </thead>\n",
       "  <tbody>\n",
       "    <tr>\n",
       "      <th>1090</th>\n",
       "      <td>Голень куриная с/м  монолит Гост Голень курина...</td>\n",
       "      <td>125р.</td>\n",
       "    </tr>\n",
       "    <tr>\n",
       "      <th>4773</th>\n",
       "      <td>Говядина, огузок, зам. Говядина,б/к огузок</td>\n",
       "      <td>Парагвай</td>\n",
       "    </tr>\n",
       "    <tr>\n",
       "      <th>4822</th>\n",
       "      <td>Говядина, огузок, зам. цена 420руб. Говядина,б...</td>\n",
       "      <td>Парагвай</td>\n",
       "    </tr>\n",
       "    <tr>\n",
       "      <th>7707</th>\n",
       "      <td>Глухарь дичь Мешки по 5шт. Тушки целые не щипа...</td>\n",
       "      <td>Глухарь</td>\n",
       "    </tr>\n",
       "    <tr>\n",
       "      <th>9285</th>\n",
       "      <td>Заяц, тушка, без головы</td>\n",
       "      <td>Заяц</td>\n",
       "    </tr>\n",
       "    <tr>\n",
       "      <th>9286</th>\n",
       "      <td>Заяц, тушка, без головы цена 1500 руб.</td>\n",
       "      <td>Заяц</td>\n",
       "    </tr>\n",
       "    <tr>\n",
       "      <th>9288</th>\n",
       "      <td>изысканное мясо кенгуру (тест) \\nв\\nв\\nв</td>\n",
       "      <td>Кенгуру</td>\n",
       "    </tr>\n",
       "    <tr>\n",
       "      <th>10339</th>\n",
       "      <td>Карбонад свиной б/к гофра 20-23 кг Карбонад св...</td>\n",
       "      <td>295,00 руб|кг</td>\n",
       "    </tr>\n",
       "    <tr>\n",
       "      <th>10818</th>\n",
       "      <td>коза коза тушкой.охлаждёнка.</td>\n",
       "      <td>Коза</td>\n",
       "    </tr>\n",
       "    <tr>\n",
       "      <th>12848</th>\n",
       "      <td>Лопаточная часть (Chuck) буйвол</td>\n",
       "      <td>Лопаточная часть (Chuck) буйвол</td>\n",
       "    </tr>\n",
       "    <tr>\n",
       "      <th>13340</th>\n",
       "      <td>мясо дичи. Бобр. тушками. собственный промысел...</td>\n",
       "      <td>Бобер</td>\n",
       "    </tr>\n",
       "    <tr>\n",
       "      <th>13390</th>\n",
       "      <td>мясо кенгурячье тест\\nтест\\nтест\\n245245\\n====...</td>\n",
       "      <td>Кенгуру</td>\n",
       "    </tr>\n",
       "    <tr>\n",
       "      <th>14210</th>\n",
       "      <td>Нутрия живым весом Продаются нутрии живым весо...</td>\n",
       "      <td>Нутрия</td>\n",
       "    </tr>\n",
       "    <tr>\n",
       "      <th>14211</th>\n",
       "      <td>Нутрия, тушка, без головы цена 220 руб.</td>\n",
       "      <td>Нутрия</td>\n",
       "    </tr>\n",
       "    <tr>\n",
       "      <th>14793</th>\n",
       "      <td>окорочка Окорочка куриные</td>\n",
       "      <td>Feb-20</td>\n",
       "    </tr>\n",
       "    <tr>\n",
       "      <th>14794</th>\n",
       "      <td>окорочка Окорочка куриные б/х</td>\n",
       "      <td>Mar-20</td>\n",
       "    </tr>\n",
       "    <tr>\n",
       "      <th>15182</th>\n",
       "      <td>Печень  говяжья Аргентина  зам  Печень говяжья...</td>\n",
       "      <td>(OFFAL EXP №4407 Аргентина)</td>\n",
       "    </tr>\n",
       "    <tr>\n",
       "      <th>15280</th>\n",
       "      <td>Печень говяжья Аргентина ,ЗАМ  Печень говяжья ...</td>\n",
       "      <td>OFFAL EXP №4407 Аргентина</td>\n",
       "    </tr>\n",
       "    <tr>\n",
       "      <th>15460</th>\n",
       "      <td>печень куринная Печень куриная</td>\n",
       "      <td>Feb-20</td>\n",
       "    </tr>\n",
       "    <tr>\n",
       "      <th>16545</th>\n",
       "      <td>Тм Индилайт и Озерка Предлагаю мясо птицы ТМ И...</td>\n",
       "      <td>утка</td>\n",
       "    </tr>\n",
       "    <tr>\n",
       "      <th>16838</th>\n",
       "      <td>Рябчик, тушка, нк</td>\n",
       "      <td>Рябчик</td>\n",
       "    </tr>\n",
       "    <tr>\n",
       "      <th>17472</th>\n",
       "      <td>Тетерев, тушка, 1 сорт</td>\n",
       "      <td>Тетерев</td>\n",
       "    </tr>\n",
       "    <tr>\n",
       "      <th>17891</th>\n",
       "      <td>Як, задние части, 1 категория цена 550 руб.</td>\n",
       "      <td>Як</td>\n",
       "    </tr>\n",
       "    <tr>\n",
       "      <th>17892</th>\n",
       "      <td>Як, туши, 1 категория цена 150 руб.</td>\n",
       "      <td>Як</td>\n",
       "    </tr>\n",
       "  </tbody>\n",
       "</table>\n",
       "</div>"
      ],
      "text/plain": [
       "                                                    text  \\\n",
       "1090   Голень куриная с/м  монолит Гост Голень курина...   \n",
       "4773          Говядина, огузок, зам. Говядина,б/к огузок   \n",
       "4822   Говядина, огузок, зам. цена 420руб. Говядина,б...   \n",
       "7707   Глухарь дичь Мешки по 5шт. Тушки целые не щипа...   \n",
       "9285                             Заяц, тушка, без головы   \n",
       "9286              Заяц, тушка, без головы цена 1500 руб.   \n",
       "9288            изысканное мясо кенгуру (тест) \\nв\\nв\\nв   \n",
       "10339  Карбонад свиной б/к гофра 20-23 кг Карбонад св...   \n",
       "10818                       коза коза тушкой.охлаждёнка.   \n",
       "12848                   Лопаточная часть (Chuck) буйвол    \n",
       "13340  мясо дичи. Бобр. тушками. собственный промысел...   \n",
       "13390  мясо кенгурячье тест\\nтест\\nтест\\n245245\\n====...   \n",
       "14210  Нутрия живым весом Продаются нутрии живым весо...   \n",
       "14211            Нутрия, тушка, без головы цена 220 руб.   \n",
       "14793                          окорочка Окорочка куриные   \n",
       "14794                      окорочка Окорочка куриные б/х   \n",
       "15182  Печень  говяжья Аргентина  зам  Печень говяжья...   \n",
       "15280  Печень говяжья Аргентина ,ЗАМ  Печень говяжья ...   \n",
       "15460                     печень куринная Печень куриная   \n",
       "16545  Тм Индилайт и Озерка Предлагаю мясо птицы ТМ И...   \n",
       "16838                                  Рябчик, тушка, нк   \n",
       "17472                             Тетерев, тушка, 1 сорт   \n",
       "17891        Як, задние части, 1 категория цена 550 руб.   \n",
       "17892                Як, туши, 1 категория цена 150 руб.   \n",
       "\n",
       "                                   mtype  \n",
       "1090                               125р.  \n",
       "4773                            Парагвай  \n",
       "4822                            Парагвай  \n",
       "7707                             Глухарь  \n",
       "9285                                Заяц  \n",
       "9286                                Заяц  \n",
       "9288                             Кенгуру  \n",
       "10339                      295,00 руб|кг  \n",
       "10818                               Коза  \n",
       "12848   Лопаточная часть (Chuck) буйвол   \n",
       "13340                              Бобер  \n",
       "13390                            Кенгуру  \n",
       "14210                             Нутрия  \n",
       "14211                             Нутрия  \n",
       "14793                             Feb-20  \n",
       "14794                             Mar-20  \n",
       "15182        (OFFAL EXP №4407 Аргентина)  \n",
       "15280          OFFAL EXP №4407 Аргентина  \n",
       "15460                             Feb-20  \n",
       "16545                               утка  \n",
       "16838                             Рябчик  \n",
       "17472                            Тетерев  \n",
       "17891                                 Як  \n",
       "17892                                 Як  "
      ]
     },
     "execution_count": 13,
     "metadata": {},
     "output_type": "execute_result"
    }
   ],
   "source": [
    "df[df['mtype'].isin(filter)]"
   ]
  },
  {
   "cell_type": "code",
   "execution_count": 14,
   "id": "ad48f24b",
   "metadata": {},
   "outputs": [
    {
     "name": "stderr",
     "output_type": "stream",
     "text": [
      "C:\\Users\\Acer\\AppData\\Local\\Temp\\ipykernel_2868\\2991901962.py:1: SettingWithCopyWarning: \n",
      "A value is trying to be set on a copy of a slice from a DataFrame\n",
      "\n",
      "See the caveats in the documentation: https://pandas.pydata.org/pandas-docs/stable/user_guide/indexing.html#returning-a-view-versus-a-copy\n",
      "  df.loc[(df['mtype'].str.contains('Feb-20'))|\n"
     ]
    }
   ],
   "source": [
    "df.loc[(df['mtype'].str.contains('Feb-20'))|\n",
    "       (df['mtype'].str.contains('Mar-20'))|\n",
    "       (df['mtype'].str.contains('125')),'mtype'] = 'Кура'"
   ]
  },
  {
   "cell_type": "code",
   "execution_count": 15,
   "id": "0b611103",
   "metadata": {
    "scrolled": true
   },
   "outputs": [
    {
     "name": "stderr",
     "output_type": "stream",
     "text": [
      "C:\\Users\\Acer\\AppData\\Local\\Temp\\ipykernel_2868\\2413575696.py:1: SettingWithCopyWarning: \n",
      "A value is trying to be set on a copy of a slice from a DataFrame\n",
      "\n",
      "See the caveats in the documentation: https://pandas.pydata.org/pandas-docs/stable/user_guide/indexing.html#returning-a-view-versus-a-copy\n",
      "  df.loc[(df['mtype'].str.contains('Аргентина'))|\n"
     ]
    }
   ],
   "source": [
    "df.loc[(df['mtype'].str.contains('Аргентина'))|\n",
    "       (df['mtype'].str.contains('Парагвай')),'mtype'] = 'Говядина'"
   ]
  },
  {
   "cell_type": "code",
   "execution_count": 16,
   "id": "1a1ebb0a",
   "metadata": {
    "scrolled": true
   },
   "outputs": [
    {
     "name": "stderr",
     "output_type": "stream",
     "text": [
      "C:\\Users\\Acer\\AppData\\Local\\Temp\\ipykernel_2868\\2621951842.py:1: SettingWithCopyWarning: \n",
      "A value is trying to be set on a copy of a slice from a DataFrame\n",
      "\n",
      "See the caveats in the documentation: https://pandas.pydata.org/pandas-docs/stable/user_guide/indexing.html#returning-a-view-versus-a-copy\n",
      "  df.loc[df['mtype'].str.contains('295'),'mtype'] = 'Свинина'\n"
     ]
    }
   ],
   "source": [
    "df.loc[df['mtype'].str.contains('295'),'mtype'] = 'Свинина'"
   ]
  },
  {
   "cell_type": "markdown",
   "id": "d8d08131",
   "metadata": {},
   "source": [
    "#### Убираем категории, представленные менее чем 500 записями"
   ]
  },
  {
   "cell_type": "code",
   "execution_count": 17,
   "id": "500859eb",
   "metadata": {},
   "outputs": [],
   "source": [
    "filter = df['mtype'].value_counts()<500\n",
    "filter = list(filter[filter==True].index)"
   ]
  },
  {
   "cell_type": "code",
   "execution_count": 18,
   "id": "b5dac44d",
   "metadata": {
    "scrolled": true
   },
   "outputs": [
    {
     "data": {
      "text/plain": [
       "['Кролик',\n",
       " 'Утка',\n",
       " 'Оленина',\n",
       " 'Конина',\n",
       " 'Гусь',\n",
       " 'Телятина',\n",
       " 'Ягнятина',\n",
       " 'Буйволятина',\n",
       " 'Перепел',\n",
       " 'Кабан',\n",
       " 'Лось',\n",
       " 'Страус',\n",
       " 'Косуля',\n",
       " 'Куропатка',\n",
       " 'Марал',\n",
       " 'Цесарка',\n",
       " 'Фазан',\n",
       " 'Медвежатина',\n",
       " 'Изюбр',\n",
       " 'Нутрия',\n",
       " 'Заяц',\n",
       " 'Кенгуру',\n",
       " 'Як',\n",
       " ' Лопаточная часть (Chuck) буйвол ',\n",
       " 'Бобер',\n",
       " 'Коза',\n",
       " 'утка',\n",
       " 'Рябчик',\n",
       " 'Тетерев',\n",
       " 'Глухарь']"
      ]
     },
     "execution_count": 18,
     "metadata": {},
     "output_type": "execute_result"
    }
   ],
   "source": [
    "filter"
   ]
  },
  {
   "cell_type": "code",
   "execution_count": 19,
   "id": "5f704085",
   "metadata": {
    "scrolled": false
   },
   "outputs": [],
   "source": [
    "df = df.drop(df[df['mtype'].isin(filter)].index)"
   ]
  },
  {
   "cell_type": "markdown",
   "id": "a7367749",
   "metadata": {},
   "source": [
    "#### визуализация соотношения классов"
   ]
  },
  {
   "cell_type": "code",
   "execution_count": 20,
   "id": "c185c8a7",
   "metadata": {
    "scrolled": false
   },
   "outputs": [
    {
     "data": {
      "image/png": "[encoded data removed]",
      "text/plain": [
       "<Figure size 640x480 with 1 Axes>"
      ]
     },
     "metadata": {},
     "output_type": "display_data"
    }
   ],
   "source": [
    "df['mtype'].value_counts().plot(kind='pie', title='количество предложений по классам');"
   ]
  },
  {
   "cell_type": "markdown",
   "id": "cbccc7a0",
   "metadata": {},
   "source": [
    "#### рассмотрим длину текстов в корпусе"
   ]
  },
  {
   "cell_type": "code",
   "execution_count": 21,
   "id": "c2daefa4",
   "metadata": {
    "scrolled": true
   },
   "outputs": [],
   "source": [
    "df['length'] = df['text'].apply(lambda x: len(x))\n",
    "# добавим столбец с "
   ]
  },
  {
   "cell_type": "code",
   "execution_count": 22,
   "id": "0dfbdad2",
   "metadata": {
    "scrolled": true
   },
   "outputs": [
    {
     "data": {
      "text/plain": [
       "count    16457.000000\n",
       "mean       125.421644\n",
       "std        285.520270\n",
       "min          2.000000\n",
       "25%         37.000000\n",
       "50%         54.000000\n",
       "75%        127.000000\n",
       "max      18093.000000\n",
       "Name: length, dtype: float64"
      ]
     },
     "execution_count": 22,
     "metadata": {},
     "output_type": "execute_result"
    }
   ],
   "source": [
    "df['length'].describe()"
   ]
  },
  {
   "cell_type": "code",
   "execution_count": 23,
   "id": "bfc0bdae",
   "metadata": {
    "scrolled": false
   },
   "outputs": [
    {
     "data": {
      "text/plain": [
       "<AxesSubplot:>"
      ]
     },
     "execution_count": 23,
     "metadata": {},
     "output_type": "execute_result"
    },
    {
     "data": {
      "image/png": "[encoded data removed]",
      "text/plain": [
       "<Figure size 640x480 with 1 Axes>"
      ]
     },
     "metadata": {},
     "output_type": "display_data"
    }
   ],
   "source": [
    "df['length'].hist(bins=100)"
   ]
  },
  {
   "cell_type": "markdown",
   "id": "f455545d",
   "metadata": {},
   "source": [
    "В корпусе присутствуют значимые выбросы по длине текста. Рассмотрим ближе:"
   ]
  },
  {
   "cell_type": "code",
   "execution_count": 24,
   "id": "856a1e61",
   "metadata": {},
   "outputs": [
    {
     "data": {
      "text/plain": [
       "<AxesSubplot:>"
      ]
     },
     "execution_count": 24,
     "metadata": {},
     "output_type": "execute_result"
    },
    {
     "data": {
      "image/png": "[encoded data removed]",
      "text/plain": [
       "<Figure size 640x480 with 1 Axes>"
      ]
     },
     "metadata": {},
     "output_type": "display_data"
    }
   ],
   "source": [
    "df['length'].hist(bins=100, range = [0, 800]);"
   ]
  },
  {
   "cell_type": "code",
   "execution_count": 25,
   "id": "dba91506",
   "metadata": {
    "scrolled": false
   },
   "outputs": [
    {
     "name": "stdout",
     "output_type": "stream",
     "text": [
      "0.08142431791942638\n"
     ]
    }
   ],
   "source": [
    "print(len(df[df['length']>300]['text'].values)/len(df))"
   ]
  },
  {
   "cell_type": "markdown",
   "id": "45a94ab5",
   "metadata": {},
   "source": [
    "У нас всего 8% текстов длиннее 300 символов. Их можно будет удалить в качестве выбросов.\n",
    "\n",
    "Ниже рассмотрим подозрительно короткие тексты:"
   ]
  },
  {
   "cell_type": "code",
   "execution_count": 26,
   "id": "39c2e60d",
   "metadata": {
    "scrolled": false
   },
   "outputs": [
    {
     "name": "stdout",
     "output_type": "stream",
     "text": [
      "['Бедро индейки' 'Бедро куриное' 'Бедро Курное' 'Бедро ц/б' 'Бедро ЦБ'\n",
      " 'Бедро ЦБ ГОСТ' 'Бедро ЦБ ТУ' 'Говядина б/к' 'Вымя -30 руб.' 'Вымя Вымя'\n",
      " 'Вымя говяжье' 'Вырезка гов' 'вырезка свиная' 'Глазной мускул'\n",
      " 'Голень индейки' 'Голень куриный' 'Голень ЦБ 80' 'говяжьи головы'\n",
      " 'Голов индейки' 'Голова свиная' 'Головы говяжьи' 'Головы свинные'\n",
      " 'Головы свиные' 'Голяшка свиная' 'Грудка н/к' 'Грудка ЦБ охл'\n",
      " 'Грудку Куриную' 'Гузка Индейки' 'Гузка ц/б' 'Гузки индейки'\n",
      " 'Говядина гуляш' 'Говядина жилка' 'Баранина жир' 'говядина жир'\n",
      " 'шкура куриная' 'Баранина кости' 'говяжьи лытки' 'Блоки говяжьи'\n",
      " 'Говядина ноги' 'Говядина ножки' 'печень говяжья' '  ' 'БЫКИ В П/Т'\n",
      " 'Говядина 170р' 'Говядина почки' 'Говядина рагу' 'Говядина рубцы'\n",
      " 'Говяжье сердце' 'Баранина Тзб' 'Говядина ТЗЧ.' 'Баранина туши'\n",
      " 'Говядина туша' 'Говядина уши' 'Говядина хвост' 'Говядина шея'\n",
      " 'Говядина щека' 'бараний язык' 'Говядина язык' 'Говяжий язык'\n",
      " 'желудок свиной' 'Жилка гов.' 'Жилка говяжья' 'Жилку говяжью'\n",
      " 'Жир говяжий' 'Жир индейки' 'Жир куриный' 'Жир свиной' 'индейка'\n",
      " 'Индейка азу' 'Индейка голень' 'Индейка крыло' 'Индейка тушка'\n",
      " 'Индейка шея' 'Калтык свиной' 'каркас куриный' 'Каркас ЦБ' 'Киль куриный'\n",
      " 'книжка говяжья' 'Кожа грудки ЦБ' 'Кожа индейки' 'кожа кур.'\n",
      " 'кожа куриная' 'Кожа ЦБ' 'Кожа ЦБ зам' 'Копыта говяжьи' 'Кости бараньи'\n",
      " 'Кости говяжьи' 'Кость свиная' 'кость свиную' 'Крыло индейки' 'крыло кур'\n",
      " 'Крыло куриное' 'Крыло ц/б' 'Крыло ЦБ' 'крыло ЦБ 110р' 'Крыло ЦБ ГОСТ'\n",
      " 'Кура бедро нк' 'Кура бедро ту' 'Кура голень' 'Кура голень ту'\n",
      " 'Кура гребешки' 'Кура грудка' 'Кура желудки' 'Кура каркас' 'Кура киль'\n",
      " 'Кура крыло' 'Кура крыло ЦБ' 'Кура лапы' 'Кура ноги' 'Кура окорочка'\n",
      " 'Кура печень' 'Кура сердце' 'кура тушка' 'Кура тушка цб' 'Кура фарш'\n",
      " 'Кура фарш в/с' 'Кура фарш ммо' 'Кура филе' 'Кура шаурма' 'Кура шея'\n",
      " 'Куриное крыло' 'куриное сердце' 'Куриные крылья' 'Куриные лапы'\n",
      " 'Куриные тушки' 'Куриный фарш' 'Лапки куринные' 'Лапы кур' 'лапы куриные'\n",
      " 'легкое говяжье' 'Легкое свиное' 'Локоть куриный' 'Лопатка гов РФ'\n",
      " 'Лопатка св б/к' 'лопатка свиная' 'ММО Индейки' 'Мозг говяжий'\n",
      " 'мозги говяжьи' 'мозги говяьи' 'ноги гов.' 'Ноги говяжьи' 'ноги куриные'\n",
      " 'Ноги св задние' 'ноги свиные' 'Ножки свиные' 'обрезь говяжью'\n",
      " 'окорок свиной' 'окорочек цб' 'п/т свиные' 'печень говяжья'\n",
      " 'Печень индейки' 'печень куриная' 'печень св' 'печень свин'\n",
      " 'Печень Свиная' 'Печень ц/б' 'Пикало говяжье' 'плечо индейки'\n",
      " 'полу туши крс' 'Полутуша гов.' 'Полутуши быков' 'Почки свиные'\n",
      " 'Фарш баранина' 'Рагу говяжье' 'Ребро говяжье' 'рубец говяж'\n",
      " 'рубец говяжий' 'трахея говяжья' 'Фарш говяжий' 'Фарш \"Говяжий\"'\n",
      " 'хвост говяжий' 'шея говяжья' 'Шкура КРС' 'шкуры крс' 'щека гов зам'\n",
      " 'Щека говяжая' 'щека говяжья' 'Шкурка индейки' 'сердце индейки'\n",
      " 'Тушка индейки' 'фарш индюшиный' 'филе индейки' 'Шкура куриная'\n",
      " 'Спинки куриные' 'Фарш (Куриный)' 'фарш курынй' 'Свинина аорта'\n",
      " 'Свиная вырезка' 'Свинина калтык' 'Свинина легкое' 'Свинина ноги'\n",
      " 'Свиная печень' 'Свинина печень' 'Свинина почки' 'Свинина ребро'\n",
      " 'Свинина рулька' 'Свинина сердце' 'Свинина трахея' 'Свинина уши'\n",
      " 'Свинина уши ту' 'Свинина хвост' 'Свинина черева' 'свиная шкура'\n",
      " 'Свинина шкура' 'Свинина щека' 'Свинина язык' 'Спинку цб 49р.'\n",
      " 'спинка цб' 'сердце куриное' 'Спинка ЦБ 38']\n"
     ]
    }
   ],
   "source": [
    "print(df[df['length']<15]['text'].values)"
   ]
  },
  {
   "cell_type": "markdown",
   "id": "58f6e238",
   "metadata": {},
   "source": [
    "Как видно из полученного списка, короткие тексты не содержат ошибок."
   ]
  },
  {
   "cell_type": "code",
   "execution_count": 27,
   "id": "1ba37069",
   "metadata": {},
   "outputs": [],
   "source": [
    "df = df.drop(df[df.loc[:,'length']>300].index)\n",
    "# удаление выбросов"
   ]
  },
  {
   "cell_type": "markdown",
   "id": "178c3e13",
   "metadata": {},
   "source": [
    "Ниже рассмотрим длину оставшихся текстов:"
   ]
  },
  {
   "cell_type": "code",
   "execution_count": 28,
   "id": "a4e88adc",
   "metadata": {
    "scrolled": true
   },
   "outputs": [
    {
     "data": {
      "text/plain": [
       "count    15117.000000\n",
       "mean        78.551366\n",
       "std         62.171346\n",
       "min          2.000000\n",
       "25%         36.000000\n",
       "50%         47.000000\n",
       "75%        105.000000\n",
       "max        300.000000\n",
       "Name: length, dtype: float64"
      ]
     },
     "execution_count": 28,
     "metadata": {},
     "output_type": "execute_result"
    }
   ],
   "source": [
    "df['length'].describe()"
   ]
  },
  {
   "cell_type": "code",
   "execution_count": 237,
   "id": "3af8136a",
   "metadata": {
    "scrolled": true
   },
   "outputs": [
    {
     "data": {
      "image/png": "[encoded data removed]",
      "text/plain": [
       "<Figure size 640x480 with 1 Axes>"
      ]
     },
     "metadata": {},
     "output_type": "display_data"
    }
   ],
   "source": [
    "df['length'].hist(bins=100);"
   ]
  },
  {
   "cell_type": "markdown",
   "id": "55183194",
   "metadata": {},
   "source": [
    "Большинство сохранившихся текстов содержат в районе 25-50 символов.\n",
    "\n",
    "### Подготовка текста"
   ]
  },
  {
   "cell_type": "markdown",
   "id": "a34ca308",
   "metadata": {},
   "source": [
    "#### Приведение к нижнему регистру, удаление незначимых слов и символов."
   ]
  },
  {
   "cell_type": "code",
   "execution_count": 30,
   "id": "38a9f73f",
   "metadata": {},
   "outputs": [],
   "source": [
    "corpus = df['text'].astype('U')\n",
    "# приведение текстов к юникоду"
   ]
  },
  {
   "cell_type": "code",
   "execution_count": 31,
   "id": "6f76f7fc",
   "metadata": {
    "scrolled": false
   },
   "outputs": [],
   "source": [
    "corpus = corpus.apply(lambda x: re.sub(r'[^а-яА-ЯёЁ ]', ' ',x))\n",
    "# оставляем только кириллические буквы, прочие символы заменяем пробелами"
   ]
  },
  {
   "cell_type": "code",
   "execution_count": 32,
   "id": "a8659fc9",
   "metadata": {},
   "outputs": [],
   "source": [
    "corpus = corpus.apply(lambda x: x.lower())\n",
    "# приводим к нижнему регистру"
   ]
  },
  {
   "cell_type": "code",
   "execution_count": 33,
   "id": "eb4173cd",
   "metadata": {},
   "outputs": [],
   "source": [
    "corpus = corpus.apply(lambda x: x.replace('руб',''))\n",
    "corpus = corpus.apply(lambda x: x.replace('цена',''))\n",
    "corpus = corpus.apply(lambda x: x.replace('гост',''))\n",
    "corpus = corpus.apply(lambda x: x.replace('охл',''))\n",
    "corpus = corpus.apply(lambda x: x.replace('зам',''))\n",
    "\n",
    "# слова, имеющие отношение к цене и виду продукции - охлажденной, замороженной - не имеют отношения к видовой\n",
    "# принадлежности сырья - соответственно, можно удалить их."
   ]
  },
  {
   "cell_type": "code",
   "execution_count": 34,
   "id": "36c589aa",
   "metadata": {},
   "outputs": [],
   "source": [
    "corpus = corpus.apply(lambda x: \" \".join(x.split()))\n",
    "# убираем лишние пробелы, в т.ч. полученные в результате обработки"
   ]
  },
  {
   "cell_type": "code",
   "execution_count": 35,
   "id": "502a120f",
   "metadata": {},
   "outputs": [
    {
     "data": {
      "text/plain": [
       "0                          частей баранина частей баранина\n",
       "1                                          баранина частей\n",
       "2                                          баранина частей\n",
       "3                                          баранина частей\n",
       "4                                          баранина частей\n",
       "                               ...                        \n",
       "17816                           цыпленок четвертина задняя\n",
       "17817                           цыпленок четвертина задняя\n",
       "17818    цб шеи п ф свеженка пак шеи куриные позц свеже...\n",
       "17819                                цыпленок шея без кожи\n",
       "17820                                цыпленок шея без кожи\n",
       "Name: text, Length: 15117, dtype: object"
      ]
     },
     "execution_count": 35,
     "metadata": {},
     "output_type": "execute_result"
    }
   ],
   "source": [
    "corpus"
   ]
  },
  {
   "cell_type": "markdown",
   "id": "a57033e3",
   "metadata": {},
   "source": [
    "#### Токенизация\n",
    "\n",
    "Используем BertTokenizer, предварительно обученный на русском языке."
   ]
  },
  {
   "cell_type": "code",
   "execution_count": 36,
   "id": "d441101f",
   "metadata": {
    "scrolled": true
   },
   "outputs": [],
   "source": [
    "tokenizer = transformers.BertTokenizer.from_pretrained('DeepPavlov/rubert-base-cased')\n",
    "# предобученный токенизатор Bert"
   ]
  },
  {
   "cell_type": "code",
   "execution_count": 37,
   "id": "8810169d",
   "metadata": {
    "scrolled": true
   },
   "outputs": [
    {
     "name": "stdout",
     "output_type": "stream",
     "text": [
      "Wall time: 6.65 s\n"
     ]
    }
   ],
   "source": [
    "%%time\n",
    "corpus = corpus.apply(lambda x: tokenizer.encode(x))\n",
    "# применение токенизатора"
   ]
  },
  {
   "cell_type": "code",
   "execution_count": 38,
   "id": "0d377a70",
   "metadata": {},
   "outputs": [
    {
     "data": {
      "text/plain": [
       "0        [101, 15021, 93973, 2889, 15021, 93973, 2889, ...\n",
       "1                           [101, 93973, 2889, 15021, 102]\n",
       "2                           [101, 93973, 2889, 15021, 102]\n",
       "3                           [101, 93973, 2889, 15021, 102]\n",
       "4                           [101, 93973, 2889, 15021, 102]\n",
       "                               ...                        \n",
       "17816    [101, 90378, 13286, 28048, 29295, 2058, 61184,...\n",
       "17817    [101, 90378, 13286, 28048, 29295, 2058, 61184,...\n",
       "17818    [101, 885, 844, 50610, 871, 881, 76676, 22799,...\n",
       "17819    [101, 90378, 13286, 28048, 84725, 4428, 25983,...\n",
       "17820    [101, 90378, 13286, 28048, 84725, 4428, 25983,...\n",
       "Name: text, Length: 15117, dtype: object"
      ]
     },
     "execution_count": 38,
     "metadata": {},
     "output_type": "execute_result"
    }
   ],
   "source": [
    "corpus\n",
    "# осмотр полученных значений"
   ]
  },
  {
   "cell_type": "markdown",
   "id": "c0ca9765",
   "metadata": {},
   "source": [
    "Как видно выше, тексты токенизированы.\n",
    "#### Padding\n",
    "Добавим нули в конце полученных векторов для выравнивания их длины: это необходимо для дальнейшей работы RuBert. "
   ]
  },
  {
   "cell_type": "code",
   "execution_count": 39,
   "id": "22d9ff79",
   "metadata": {},
   "outputs": [],
   "source": [
    "length = pd.Series(corpus.apply(lambda x: len(x))).max() \n",
    "# определяем максимальную длину полученных векторов"
   ]
  },
  {
   "cell_type": "code",
   "execution_count": 40,
   "id": "0737005e",
   "metadata": {},
   "outputs": [
    {
     "data": {
      "text/plain": [
       "75"
      ]
     },
     "execution_count": 40,
     "metadata": {},
     "output_type": "execute_result"
    }
   ],
   "source": [
    "length"
   ]
  },
  {
   "cell_type": "code",
   "execution_count": 41,
   "id": "3d8b8166",
   "metadata": {
    "scrolled": false
   },
   "outputs": [],
   "source": [
    "corpus = corpus.apply(lambda x: x + [0]*(length - len(x))) \n",
    "# padding с помощью нулей"
   ]
  },
  {
   "cell_type": "code",
   "execution_count": 42,
   "id": "587feb25",
   "metadata": {},
   "outputs": [],
   "source": [
    "corpus = corpus.apply(lambda x: np.array(x))\n",
    "# переводим список в тип np.array"
   ]
  },
  {
   "cell_type": "code",
   "execution_count": 43,
   "id": "724a79c2",
   "metadata": {
    "scrolled": true
   },
   "outputs": [
    {
     "name": "stdout",
     "output_type": "stream",
     "text": [
      "(15117,)\n"
     ]
    }
   ],
   "source": [
    "attention_mask = corpus.apply(lambda x: np.where(np.array(x)!= 0, 1, 0))\n",
    "print(attention_mask.shape)\n",
    "# готовим для модели маску, показывающую что нули не имеют смыслового значения"
   ]
  },
  {
   "cell_type": "markdown",
   "id": "cc8d6c6f",
   "metadata": {},
   "source": [
    "#### Создание эмбеддингов с помощью RuBERT"
   ]
  },
  {
   "cell_type": "code",
   "execution_count": 45,
   "id": "3f99f0a7",
   "metadata": {
    "scrolled": true
   },
   "outputs": [
    {
     "name": "stderr",
     "output_type": "stream",
     "text": [
      "Some weights of the model checkpoint at DeepPavlov/rubert-base-cased were not used when initializing BertModel: ['cls.predictions.decoder.bias', 'cls.predictions.transform.LayerNorm.bias', 'cls.seq_relationship.bias', 'cls.predictions.transform.LayerNorm.weight', 'cls.predictions.bias', 'cls.predictions.decoder.weight', 'cls.seq_relationship.weight', 'cls.predictions.transform.dense.bias', 'cls.predictions.transform.dense.weight']\n",
      "- This IS expected if you are initializing BertModel from the checkpoint of a model trained on another task or with another architecture (e.g. initializing a BertForSequenceClassification model from a BertForPreTraining model).\n",
      "- This IS NOT expected if you are initializing BertModel from the checkpoint of a model that you expect to be exactly identical (initializing a BertForSequenceClassification model from a BertForSequenceClassification model).\n"
     ]
    }
   ],
   "source": [
    "\n",
    "model = transformers.BertModel.from_pretrained('DeepPavlov/rubert-base-cased')\n",
    "\n",
    "# загружаем предобученную BertModel"
   ]
  },
  {
   "cell_type": "code",
   "execution_count": 46,
   "id": "b537febf",
   "metadata": {},
   "outputs": [],
   "source": [
    "# batch - чтоб модель одновременно строила заданное количество векторов\n",
    "batch_size = 100\n",
    "\n",
    "\n",
    "\n"
   ]
  },
  {
   "cell_type": "code",
   "execution_count": 47,
   "id": "9ebf528f",
   "metadata": {},
   "outputs": [],
   "source": [
    "corpus = corpus.values\n",
    "# переводим в тип np.array"
   ]
  },
  {
   "cell_type": "code",
   "execution_count": 48,
   "id": "3ef212ec",
   "metadata": {},
   "outputs": [],
   "source": [
    "corpus = np.stack(corpus)\n",
    "# переводим в двумерный массив"
   ]
  },
  {
   "cell_type": "code",
   "execution_count": 49,
   "id": "a207d27a",
   "metadata": {},
   "outputs": [
    {
     "data": {
      "text/plain": [
       "(15117, 75)"
      ]
     },
     "execution_count": 49,
     "metadata": {},
     "output_type": "execute_result"
    }
   ],
   "source": [
    "corpus.shape"
   ]
  },
  {
   "cell_type": "code",
   "execution_count": 50,
   "id": "71b6ff44",
   "metadata": {},
   "outputs": [],
   "source": [
    "attention_mask = np.stack(attention_mask.values)\n",
    "# маску также переводим в двумерный массив"
   ]
  },
  {
   "cell_type": "code",
   "execution_count": 51,
   "id": "8d224a9c",
   "metadata": {
    "scrolled": true
   },
   "outputs": [
    {
     "data": {
      "application/vnd.jupyter.widget-view+json": {
       "model_id": "90ff19d28399440f877e5b62f6e15d6a",
       "version_major": 2,
       "version_minor": 0
      },
      "text/plain": [
       "  0%|          | 0/151 [00:00<?, ?it/s]"
      ]
     },
     "metadata": {},
     "output_type": "display_data"
    }
   ],
   "source": [
    "embeddings = []\n",
    "# сделаем пустой список для хранения эмбеддингов\n",
    "\n",
    "for i in notebook.tqdm(range(corpus.shape[0] // batch_size)): # это позволит вывести progress bar в процессе работы модели\n",
    "    # преобразуем каждый батч методом torch.LongTensor\n",
    "    batch = torch.LongTensor(corpus[batch_size*i:batch_size*(i+1)])\n",
    "    # то же самое  делаем с маской\n",
    "    attention_mask_batch = torch.LongTensor(attention_mask[batch_size*i:batch_size*(i+1)])\n",
    "    \n",
    "    with torch.no_grad(): # модель предобучена, no_grad() позволяет не обучать модель\n",
    "        # сохраняем вывод модели после того как ей \"скормили\" batch и маску\n",
    "        batch_embeddings = model(batch, attention_mask=attention_mask_batch)\n",
    "    # полученный результат переводим в array и добавляем в список embeddings\n",
    "    embeddings.append(batch_embeddings[0][:,0,:].numpy()) "
   ]
  },
  {
   "cell_type": "code",
   "execution_count": 52,
   "id": "e9037c4d",
   "metadata": {},
   "outputs": [],
   "source": [
    "features = np.concatenate(embeddings)\n",
    "# переводим список в двумерный массив"
   ]
  },
  {
   "cell_type": "code",
   "execution_count": 54,
   "id": "de8bc2d3",
   "metadata": {},
   "outputs": [
    {
     "data": {
      "text/plain": [
       "(15100, 768)"
      ]
     },
     "execution_count": 54,
     "metadata": {},
     "output_type": "execute_result"
    }
   ],
   "source": [
    "features.shape\n",
    "# из-за размера батча потерялось 17 записей"
   ]
  },
  {
   "cell_type": "code",
   "execution_count": 60,
   "id": "26db4d5c",
   "metadata": {},
   "outputs": [],
   "source": [
    "pd.DataFrame(features).to_csv('features_backup.csv')\n",
    "# учитывая, что получение этих данных заняло много времени, сохраним их в файл"
   ]
  },
  {
   "cell_type": "code",
   "execution_count": null,
   "id": "c91263f0",
   "metadata": {},
   "outputs": [],
   "source": [
    "# здесь команда для восстановления features при необходимости\n",
    "# features = pd.read_csv('features_backup.csv').drop('Unnamed: 0', axis=1)"
   ]
  },
  {
   "cell_type": "code",
   "execution_count": 58,
   "id": "09ce8faf",
   "metadata": {},
   "outputs": [],
   "source": [
    "df = df[:-17]\n",
    "# убираем 17 пропавших в features записей с конца"
   ]
  },
  {
   "cell_type": "code",
   "execution_count": 57,
   "id": "4cd3eb65",
   "metadata": {},
   "outputs": [
    {
     "data": {
      "text/html": [
       "<div>\n",
       "<style scoped>\n",
       "    .dataframe tbody tr th:only-of-type {\n",
       "        vertical-align: middle;\n",
       "    }\n",
       "\n",
       "    .dataframe tbody tr th {\n",
       "        vertical-align: top;\n",
       "    }\n",
       "\n",
       "    .dataframe thead th {\n",
       "        text-align: right;\n",
       "    }\n",
       "</style>\n",
       "<table border=\"1\" class=\"dataframe\">\n",
       "  <thead>\n",
       "    <tr style=\"text-align: right;\">\n",
       "      <th></th>\n",
       "      <th>text</th>\n",
       "      <th>mtype</th>\n",
       "      <th>length</th>\n",
       "    </tr>\n",
       "  </thead>\n",
       "  <tbody>\n",
       "    <tr>\n",
       "      <th>0</th>\n",
       "      <td>12 частей баранина  12 частей баранина</td>\n",
       "      <td>Баранина</td>\n",
       "      <td>38</td>\n",
       "    </tr>\n",
       "    <tr>\n",
       "      <th>1</th>\n",
       "      <td>Баранина, 12 частей, зам. цена 260 руб.</td>\n",
       "      <td>Баранина</td>\n",
       "      <td>39</td>\n",
       "    </tr>\n",
       "    <tr>\n",
       "      <th>2</th>\n",
       "      <td>Баранина, 12 частей, зам. цена 315 руб.</td>\n",
       "      <td>Баранина</td>\n",
       "      <td>39</td>\n",
       "    </tr>\n",
       "    <tr>\n",
       "      <th>3</th>\n",
       "      <td>Баранина, 12 частей, охл.</td>\n",
       "      <td>Баранина</td>\n",
       "      <td>25</td>\n",
       "    </tr>\n",
       "    <tr>\n",
       "      <th>4</th>\n",
       "      <td>Баранина, 12 частей, охл. цена 220 руб.</td>\n",
       "      <td>Баранина</td>\n",
       "      <td>39</td>\n",
       "    </tr>\n",
       "    <tr>\n",
       "      <th>...</th>\n",
       "      <td>...</td>\n",
       "      <td>...</td>\n",
       "      <td>...</td>\n",
       "    </tr>\n",
       "    <tr>\n",
       "      <th>17799</th>\n",
       "      <td>Цыпленок, филе бедра, с кожей цена 210 руб.</td>\n",
       "      <td>Цыпленок</td>\n",
       "      <td>43</td>\n",
       "    </tr>\n",
       "    <tr>\n",
       "      <th>17800</th>\n",
       "      <td>Филе  (ЦБ)  грудки   ******Предлагаем продукци...</td>\n",
       "      <td>Цыпленок</td>\n",
       "      <td>204</td>\n",
       "    </tr>\n",
       "    <tr>\n",
       "      <th>17801</th>\n",
       "      <td>Филе грудки  (ГОСТ)  АКЦИЯ от ООО МИКПРОМ. На ...</td>\n",
       "      <td>Цыпленок</td>\n",
       "      <td>144</td>\n",
       "    </tr>\n",
       "    <tr>\n",
       "      <th>17802</th>\n",
       "      <td>Филе грудки  ГОСТ  монолит 185 руб. Мясоперера...</td>\n",
       "      <td>Цыпленок</td>\n",
       "      <td>231</td>\n",
       "    </tr>\n",
       "    <tr>\n",
       "      <th>17803</th>\n",
       "      <td>Филе грудки  Производим , предлагаем , доставл...</td>\n",
       "      <td>Цыпленок</td>\n",
       "      <td>283</td>\n",
       "    </tr>\n",
       "  </tbody>\n",
       "</table>\n",
       "<p>15100 rows × 3 columns</p>\n",
       "</div>"
      ],
      "text/plain": [
       "                                                    text     mtype  length\n",
       "0                 12 частей баранина  12 частей баранина  Баранина      38\n",
       "1                Баранина, 12 частей, зам. цена 260 руб.  Баранина      39\n",
       "2                Баранина, 12 частей, зам. цена 315 руб.  Баранина      39\n",
       "3                              Баранина, 12 частей, охл.  Баранина      25\n",
       "4                Баранина, 12 частей, охл. цена 220 руб.  Баранина      39\n",
       "...                                                  ...       ...     ...\n",
       "17799        Цыпленок, филе бедра, с кожей цена 210 руб.  Цыпленок      43\n",
       "17800  Филе  (ЦБ)  грудки   ******Предлагаем продукци...  Цыпленок     204\n",
       "17801  Филе грудки  (ГОСТ)  АКЦИЯ от ООО МИКПРОМ. На ...  Цыпленок     144\n",
       "17802  Филе грудки  ГОСТ  монолит 185 руб. Мясоперера...  Цыпленок     231\n",
       "17803  Филе грудки  Производим , предлагаем , доставл...  Цыпленок     283\n",
       "\n",
       "[15100 rows x 3 columns]"
      ]
     },
     "execution_count": 57,
     "metadata": {},
     "output_type": "execute_result"
    }
   ],
   "source": [
    "df[:-17]\n",
    "# проверяем размер"
   ]
  },
  {
   "cell_type": "markdown",
   "id": "404fdf4e",
   "metadata": {},
   "source": [
    "### Подготовка целевого признака"
   ]
  },
  {
   "cell_type": "code",
   "execution_count": 61,
   "id": "496fe834",
   "metadata": {
    "scrolled": true
   },
   "outputs": [
    {
     "name": "stderr",
     "output_type": "stream",
     "text": [
      "C:\\Users\\Acer\\AppData\\Local\\Temp\\ipykernel_2868\\1585434683.py:2: SettingWithCopyWarning: \n",
      "A value is trying to be set on a copy of a slice from a DataFrame.\n",
      "Try using .loc[row_indexer,col_indexer] = value instead\n",
      "\n",
      "See the caveats in the documentation: https://pandas.pydata.org/pandas-docs/stable/user_guide/indexing.html#returning-a-view-versus-a-copy\n",
      "  df['Target'] = encoder.fit_transform(df['mtype'].values.reshape(-1,1))\n"
     ]
    }
   ],
   "source": [
    "# с целью классификации целевой признак будет закодирован в числовом виде\n",
    "encoder = OrdinalEncoder()\n",
    "df['Target'] = encoder.fit_transform(df['mtype'].values.reshape(-1,1))"
   ]
  },
  {
   "cell_type": "code",
   "execution_count": 62,
   "id": "59d73005",
   "metadata": {},
   "outputs": [],
   "source": [
    "classes = pd.Series(np.array(encoder.categories_).reshape(-1,1)[:,0])\n",
    "# сохраним классы с номерами for future reference"
   ]
  },
  {
   "cell_type": "code",
   "execution_count": 64,
   "id": "195176a7",
   "metadata": {},
   "outputs": [],
   "source": [
    "# создаем переменную с целевым признаком\n",
    "target = df['Target']"
   ]
  },
  {
   "cell_type": "markdown",
   "id": "49818e5f",
   "metadata": {},
   "source": [
    "### Разделение обучающей и тестовой выборок"
   ]
  },
  {
   "cell_type": "code",
   "execution_count": 66,
   "id": "d859fcdf",
   "metadata": {},
   "outputs": [],
   "source": [
    "features_train, features_test, target_train, target_test = train_test_split(\n",
    "features, target, test_size=0.20, random_state=13)\n",
    "# разделяем обучающую и тестовую выборки в соотношении, взятом из требований к проекту"
   ]
  },
  {
   "cell_type": "markdown",
   "id": "16188b5d",
   "metadata": {},
   "source": [
    "## Обучение моделей"
   ]
  },
  {
   "cell_type": "markdown",
   "id": "cfb8b685",
   "metadata": {},
   "source": [
    "### LGBMClassifier()"
   ]
  },
  {
   "cell_type": "code",
   "execution_count": 75,
   "id": "92b3261f",
   "metadata": {},
   "outputs": [],
   "source": [
    "# задаем решетку параметров\n",
    "lgbm_grid = {\n",
    "             'max_depth':[3, 8, 15],\n",
    "             'n_estimators':[20, 50, 90, 150],\n",
    "             'num_leaves':[11, 21, 31, 41],\n",
    "             'class_weight':['balanced'],\n",
    "             'random_state':[13],\n",
    "             'objective':['multiclass']\n",
    "            }"
   ]
  },
  {
   "cell_type": "code",
   "execution_count": 77,
   "id": "e9c9a941",
   "metadata": {},
   "outputs": [],
   "source": [
    "# создаем экземпляр GridSearchCV с LGBM классификатором в качестве estimator\n",
    "lgbm_cv = GridSearchCV(\n",
    "                        estimator=LGBMClassifier(),\n",
    "                        verbose=3,\n",
    "                        param_grid=lgbm_grid,\n",
    "                        cv=3,\n",
    "                        scoring='accuracy',\n",
    "                        n_jobs=-1)"
   ]
  },
  {
   "cell_type": "code",
   "execution_count": 78,
   "id": "4c8a61aa",
   "metadata": {
    "scrolled": false
   },
   "outputs": [
    {
     "name": "stdout",
     "output_type": "stream",
     "text": [
      "Fitting 3 folds for each of 48 candidates, totalling 144 fits\n",
      "0.8259099768399699\n",
      "{'class_weight': 'balanced', 'max_depth': 15, 'n_estimators': 150, 'num_leaves': 21, 'objective': 'multiclass', 'random_state': 13}\n",
      "Wall time: 56min 56s\n"
     ]
    }
   ],
   "source": [
    "# обучаем модель и выводим результаты кросс-валидации\n",
    "%%time\n",
    "lgbm_cv.fit(features_train, target_train)\n",
    "print(lgbm_cv.best_score_)\n",
    "print(lgbm_cv.best_params_)"
   ]
  },
  {
   "cell_type": "markdown",
   "id": "531454dd",
   "metadata": {},
   "source": [
    "#### Оценка важности признаков\n",
    "Вероятно, не все из полученных фичей имеют значение для модели. Попробуем разобраться, какие можно удалить и что из этого получится."
   ]
  },
  {
   "cell_type": "code",
   "execution_count": 80,
   "id": "6e8124aa",
   "metadata": {},
   "outputs": [],
   "source": [
    "lgbm_importances = permutation_importance(lgbm_cv, features_train, target_train, random_state=13, scoring='accuracy')\n",
    "# методом permutation importance получаем данные о важности признаков"
   ]
  },
  {
   "cell_type": "code",
   "execution_count": 108,
   "id": "6b16bac4",
   "metadata": {
    "scrolled": true
   },
   "outputs": [],
   "source": [
    "lgbm_importances = lgbm_importances.importances_mean"
   ]
  },
  {
   "cell_type": "code",
   "execution_count": 111,
   "id": "e4d5c732",
   "metadata": {},
   "outputs": [],
   "source": [
    "lgbm_importances = pd.Series(lgbm_importances)"
   ]
  },
  {
   "cell_type": "code",
   "execution_count": 158,
   "id": "1893971f",
   "metadata": {},
   "outputs": [
    {
     "data": {
      "text/plain": [
       "count    768.000000\n",
       "mean       0.000013\n",
       "std        0.000041\n",
       "min       -0.000050\n",
       "25%        0.000000\n",
       "50%        0.000000\n",
       "75%        0.000000\n",
       "max        0.000480\n",
       "dtype: float64"
      ]
     },
     "execution_count": 158,
     "metadata": {},
     "output_type": "execute_result"
    }
   ],
   "source": [
    "lgbm_importances.describe()\n",
    "# осматриваем, какой разброс значений mean importances"
   ]
  },
  {
   "cell_type": "code",
   "execution_count": 156,
   "id": "cb63a301",
   "metadata": {},
   "outputs": [],
   "source": [
    "# как видно, большая часть признаков не обладает ценностью для данной модели.\n",
    "# выберем наиболее важные признаки\n",
    "chosen_indices = lgbm_importances[lgbm_importances>0.0001].index"
   ]
  },
  {
   "cell_type": "code",
   "execution_count": 159,
   "id": "f88960b0",
   "metadata": {},
   "outputs": [
    {
     "data": {
      "text/plain": [
       "23"
      ]
     },
     "execution_count": 159,
     "metadata": {},
     "output_type": "execute_result"
    }
   ],
   "source": [
    "len(chosen_indices)"
   ]
  },
  {
   "cell_type": "code",
   "execution_count": 160,
   "id": "f59caf0e",
   "metadata": {},
   "outputs": [],
   "source": [
    "features_lgbm = pd.DataFrame(features_train)"
   ]
  },
  {
   "cell_type": "code",
   "execution_count": 161,
   "id": "3df53cb4",
   "metadata": {},
   "outputs": [],
   "source": [
    "features_lgbm = features_lgbm[chosen_indices]\n",
    "# оставлям только фичи из колонок, соответствующих chosen indices"
   ]
  },
  {
   "cell_type": "code",
   "execution_count": 162,
   "id": "d5c91fd8",
   "metadata": {
    "scrolled": true
   },
   "outputs": [
    {
     "data": {
      "text/plain": [
       "(12080, 23)"
      ]
     },
     "execution_count": 162,
     "metadata": {},
     "output_type": "execute_result"
    }
   ],
   "source": [
    "features_lgbm.shape"
   ]
  },
  {
   "cell_type": "markdown",
   "id": "cd41cc5c",
   "metadata": {},
   "source": [
    "#### Повторное обучение с учетом важности признаков"
   ]
  },
  {
   "cell_type": "code",
   "execution_count": 169,
   "id": "6d1e37bb",
   "metadata": {},
   "outputs": [],
   "source": [
    "lgbm_grid = {\n",
    "             'max_depth':[15,20],\n",
    "             'n_estimators':[450, 500, 550],\n",
    "             'num_leaves':[41, 51],\n",
    "             'class_weight':['balanced'],\n",
    "             'random_state':[13],\n",
    "             'objective':['multiclass']\n",
    "            }\n",
    "# данные параметры получены в процессе длительного перебора"
   ]
  },
  {
   "cell_type": "code",
   "execution_count": 170,
   "id": "e5c66878",
   "metadata": {},
   "outputs": [],
   "source": [
    "lgbm_cv = GridSearchCV(\n",
    "                        estimator=LGBMClassifier(),\n",
    "                        verbose=3,\n",
    "                        param_grid=lgbm_grid,\n",
    "                        cv=3,\n",
    "                        scoring='accuracy',\n",
    "                        n_jobs=-1)"
   ]
  },
  {
   "cell_type": "code",
   "execution_count": 171,
   "id": "d9718679",
   "metadata": {
    "scrolled": false
   },
   "outputs": [
    {
     "name": "stdout",
     "output_type": "stream",
     "text": [
      "Fitting 3 folds for each of 12 candidates, totalling 36 fits\n",
      "0.7382449678447595\n",
      "{'class_weight': 'balanced', 'max_depth': 15, 'n_estimators': 450, 'num_leaves': 41, 'objective': 'multiclass', 'random_state': 13}\n",
      "Wall time: 5min 36s\n"
     ]
    }
   ],
   "source": [
    "%%time\n",
    "lgbm_cv.fit(features_lgbm, target_train)\n",
    "print(lgbm_cv.best_score_)\n",
    "print(lgbm_cv.best_params_)\n",
    "\n",
    "# выводим лучшие параметры и лучшее значение accuracy"
   ]
  },
  {
   "cell_type": "markdown",
   "id": "938676ab",
   "metadata": {},
   "source": [
    "LGBMClassifier не дал удовлетворительных результатов для данной задачи"
   ]
  },
  {
   "cell_type": "markdown",
   "id": "7f8a72b4",
   "metadata": {},
   "source": [
    "### Логистическая регрессия"
   ]
  },
  {
   "cell_type": "code",
   "execution_count": 67,
   "id": "8881c368",
   "metadata": {},
   "outputs": [],
   "source": [
    "log_pipeline = Pipeline([('scaler', StandardScaler()), ('log', LogisticRegression())])\n",
    "# создаем пайплайн с объектом standard scaler во избежание утечки целевого признака при кросс-валидации"
   ]
  },
  {
   "cell_type": "code",
   "execution_count": 68,
   "id": "64e0ed54",
   "metadata": {},
   "outputs": [],
   "source": [
    "log_grid = {'log__random_state':[13],\n",
    "           'log__class_weight':['balanced'],\n",
    "           'log__solver':['lbfgs', 'newton-cg', 'sag', 'saga']}"
   ]
  },
  {
   "cell_type": "code",
   "execution_count": 71,
   "id": "29c5b367",
   "metadata": {},
   "outputs": [],
   "source": [
    "log_cv = GridSearchCV(\n",
    "                        estimator=log_pipeline,\n",
    "                        verbose=3,\n",
    "                        param_grid=log_grid,\n",
    "                        cv=3,\n",
    "                        scoring='accuracy',\n",
    "                        n_jobs=-1)"
   ]
  },
  {
   "cell_type": "code",
   "execution_count": 72,
   "id": "c42c9547",
   "metadata": {
    "scrolled": true
   },
   "outputs": [
    {
     "name": "stdout",
     "output_type": "stream",
     "text": [
      "Fitting 3 folds for each of 4 candidates, totalling 12 fits\n",
      "0.8542218317464911\n",
      "{'log__class_weight': 'balanced', 'log__random_state': 13, 'log__solver': 'saga'}\n"
     ]
    },
    {
     "name": "stderr",
     "output_type": "stream",
     "text": [
      "C:\\Users\\Acer\\anaconda3\\lib\\site-packages\\sklearn\\linear_model\\_sag.py:352: ConvergenceWarning: The max_iter was reached which means the coef_ did not converge\n",
      "  warnings.warn(\n"
     ]
    }
   ],
   "source": [
    "log_cv.fit(features_train, target_train)\n",
    "print(log_cv.best_score_)\n",
    "print(log_cv.best_params_)"
   ]
  },
  {
   "cell_type": "markdown",
   "id": "11f1af75",
   "metadata": {},
   "source": [
    "##### Оценка важности признаков"
   ]
  },
  {
   "cell_type": "code",
   "execution_count": 81,
   "id": "4e207979",
   "metadata": {},
   "outputs": [],
   "source": [
    "# повторяем те же действия по отбору важных признаков, что с предыдущей моделью\n",
    "%%time\n",
    "log_importances = permutation_importance(log_cv, features_train, target_train, random_state=13, scoring='accuracy')"
   ]
  },
  {
   "cell_type": "code",
   "execution_count": 145,
   "id": "834b24a4",
   "metadata": {},
   "outputs": [],
   "source": [
    "log_importances = pd.Series(log_importances.importances_mean)"
   ]
  },
  {
   "cell_type": "code",
   "execution_count": 146,
   "id": "bc3ac5d0",
   "metadata": {
    "scrolled": true
   },
   "outputs": [
    {
     "data": {
      "text/plain": [
       "count    768.000000\n",
       "mean       0.001037\n",
       "std        0.001301\n",
       "min       -0.001440\n",
       "25%        0.000132\n",
       "50%        0.000786\n",
       "75%        0.001743\n",
       "max        0.008013\n",
       "dtype: float64"
      ]
     },
     "execution_count": 146,
     "metadata": {},
     "output_type": "execute_result"
    }
   ],
   "source": [
    "log_importances.describe()"
   ]
  },
  {
   "cell_type": "code",
   "execution_count": 173,
   "id": "8c528e18",
   "metadata": {},
   "outputs": [],
   "source": [
    "chosen_indices = log_importances[log_importances>0.001].index"
   ]
  },
  {
   "cell_type": "code",
   "execution_count": 175,
   "id": "e3364c0d",
   "metadata": {
    "scrolled": true
   },
   "outputs": [
    {
     "data": {
      "text/plain": [
       "Int64Index([  6,   9,  10,  11,  13,  21,  23,  25,  26,  27,\n",
       "            ...\n",
       "            751, 754, 756, 758, 759, 761, 762, 763, 766, 767],\n",
       "           dtype='int64', length=324)"
      ]
     },
     "execution_count": 175,
     "metadata": {},
     "output_type": "execute_result"
    }
   ],
   "source": [
    "chosen_indices"
   ]
  },
  {
   "cell_type": "code",
   "execution_count": 176,
   "id": "9290008d",
   "metadata": {},
   "outputs": [],
   "source": [
    "features_log = pd.DataFrame(features_train)[chosen_indices]"
   ]
  },
  {
   "cell_type": "code",
   "execution_count": 177,
   "id": "583ba268",
   "metadata": {},
   "outputs": [
    {
     "data": {
      "text/plain": [
       "(12080, 324)"
      ]
     },
     "execution_count": 177,
     "metadata": {},
     "output_type": "execute_result"
    }
   ],
   "source": [
    "features_log.shape"
   ]
  },
  {
   "cell_type": "code",
   "execution_count": 178,
   "id": "fe35fe48",
   "metadata": {
    "scrolled": true
   },
   "outputs": [
    {
     "name": "stdout",
     "output_type": "stream",
     "text": [
      "Fitting 3 folds for each of 4 candidates, totalling 12 fits\n"
     ]
    },
    {
     "name": "stderr",
     "output_type": "stream",
     "text": [
      "C:\\Users\\Acer\\anaconda3\\lib\\site-packages\\joblib\\externals\\loky\\process_executor.py:702: UserWarning: A worker stopped while some jobs were given to the executor. This can be caused by a too short worker timeout or by a memory leak.\n",
      "  warnings.warn(\n"
     ]
    },
    {
     "name": "stdout",
     "output_type": "stream",
     "text": [
      "0.8409767230656556\n",
      "{'log__class_weight': 'balanced', 'log__random_state': 13, 'log__solver': 'saga'}\n",
      "Wall time: 1min 54s\n"
     ]
    },
    {
     "name": "stderr",
     "output_type": "stream",
     "text": [
      "C:\\Users\\Acer\\anaconda3\\lib\\site-packages\\sklearn\\linear_model\\_sag.py:352: ConvergenceWarning: The max_iter was reached which means the coef_ did not converge\n",
      "  warnings.warn(\n"
     ]
    }
   ],
   "source": [
    "%%time\n",
    "log_cv.fit(features_log, target_train)\n",
    "print(log_cv.best_score_)\n",
    "print(log_cv.best_params_)"
   ]
  },
  {
   "cell_type": "markdown",
   "id": "8f4c39be",
   "metadata": {},
   "source": [
    "Логистическая регрессия с использованием StandardScaler сочтена оптимальной моделью.\n",
    "## Тестирование лучшей модели"
   ]
  },
  {
   "cell_type": "markdown",
   "id": "3ef4270f",
   "metadata": {},
   "source": [
    "### Проверка на тестовой выборке"
   ]
  },
  {
   "cell_type": "code",
   "execution_count": 180,
   "id": "41707ba1",
   "metadata": {},
   "outputs": [],
   "source": [
    "features_log_test = pd.DataFrame(features_test)[chosen_indices]\n",
    "# отбираем из тестовой выборки нужные фичи"
   ]
  },
  {
   "cell_type": "code",
   "execution_count": 183,
   "id": "0359d0ad",
   "metadata": {
    "scrolled": true
   },
   "outputs": [
    {
     "data": {
      "text/plain": [
       "0.8337748344370861"
      ]
     },
     "execution_count": 183,
     "metadata": {},
     "output_type": "execute_result"
    }
   ],
   "source": [
    "accuracy_score(target_test, log_cv.predict(features_log_test))\n",
    "# получаем значение accuracy"
   ]
  },
  {
   "cell_type": "markdown",
   "id": "a5dd815c",
   "metadata": {},
   "source": [
    "В процессе работы удалось достичь значения метрики accuracy 0.83 при использовании логистической регрессии со следующими параметрами: {'log__class_weight': 'balanced', 'log__random_state': 13, 'log__solver': 'saga'}. Входные данные при этом были обработаны с помощью StandardScaler()."
   ]
  },
  {
   "cell_type": "markdown",
   "id": "02efccbd",
   "metadata": {},
   "source": [
    "### Проверка на образцах из тех. задания"
   ]
  },
  {
   "cell_type": "code",
   "execution_count": 204,
   "id": "834a59cf",
   "metadata": {},
   "outputs": [],
   "source": [
    "# создаем переменную с образцами из тех. задания\n",
    "text = pd.Series(['Говядина блочная 2 сорт в наличии ООО \\\"АгроСоюз\\\" реализует блочную говядину 2 сорт (80/20) Свободный объем 8 тонн Самовывоз или доставка. Все подробности по телефону.',\n",
    "'Куриная разделка Продам кур и куриную разделку гост и халяль по хорошей цене .Тел:', 'Говяжью мукозу Продам говяжью мукозу в охл и замороженном виде. Есть объем.'])"
   ]
  },
  {
   "cell_type": "code",
   "execution_count": 205,
   "id": "25b4d7b4",
   "metadata": {
    "scrolled": true
   },
   "outputs": [
    {
     "data": {
      "text/plain": [
       "0    Говядина блочная 2 сорт в наличии ООО \"АгроСою...\n",
       "1    Куриная разделка Продам кур и куриную разделку...\n",
       "2    Говяжью мукозу Продам говяжью мукозу в охл и з...\n",
       "dtype: object"
      ]
     },
     "execution_count": 205,
     "metadata": {},
     "output_type": "execute_result"
    }
   ],
   "source": [
    "text"
   ]
  },
  {
   "cell_type": "code",
   "execution_count": 206,
   "id": "628c70d3",
   "metadata": {},
   "outputs": [],
   "source": [
    "text = text.astype('U')\n",
    "# приведение текстa к юникоду\n",
    "text = text.apply(lambda x: re.sub(r'[^а-яА-ЯёЁ ]', ' ',x))\n",
    "# оставляем только кириллические буквы, прочие символы заменяем пробелами\n",
    "text = text.apply(lambda x: x.lower())\n",
    "# приводим к нижнему регистру\n",
    "text = text.apply(lambda x: x.replace('руб',''))\n",
    "text = text.apply(lambda x: x.replace('цена',''))\n",
    "text = text.apply(lambda x: x.replace('гост',''))\n",
    "text = text.apply(lambda x: x.replace('охл',''))\n",
    "text = text.apply(lambda x: x.replace('зам',''))\n",
    "\n",
    "# слова, имеющие отношение к цене и виду продукции - охлажденной, замороженной - не имеют отношения к видовой\n",
    "# принадлежности сырья - соответственно, можно удалить их.\n",
    "text = text.apply(lambda x: \" \".join(x.split()))\n",
    "# убираем лишние пробелы, в т.ч. полученные в результате обработки"
   ]
  },
  {
   "cell_type": "code",
   "execution_count": 207,
   "id": "186dceac",
   "metadata": {},
   "outputs": [],
   "source": [
    "# токенизация\n",
    "text = text.apply(lambda x: tokenizer.encode(x))"
   ]
  },
  {
   "cell_type": "code",
   "execution_count": 208,
   "id": "2e77acaf",
   "metadata": {
    "scrolled": true
   },
   "outputs": [],
   "source": [
    "# выравнивание длины векторов\n",
    "text = text.apply(lambda x: x + [0]*(length - len(x)))"
   ]
  },
  {
   "cell_type": "code",
   "execution_count": 210,
   "id": "32390613",
   "metadata": {
    "scrolled": false
   },
   "outputs": [
    {
     "name": "stdout",
     "output_type": "stream",
     "text": [
      "(3,)\n"
     ]
    }
   ],
   "source": [
    "# создание маски\n",
    "mask = text.apply(lambda x: np.where(np.array(x)!= 0, 1, 0))\n",
    "print(mask.shape)"
   ]
  },
  {
   "cell_type": "code",
   "execution_count": 213,
   "id": "e2241a9d",
   "metadata": {},
   "outputs": [],
   "source": [
    "text = np.stack(text.values)\n",
    "mask = np.stack(mask.values)\n",
    "# переводим текст и маску в двумерный массив"
   ]
  },
  {
   "cell_type": "code",
   "execution_count": 217,
   "id": "e838c089",
   "metadata": {},
   "outputs": [],
   "source": [
    "# создание эмбеддингов\n",
    "\n",
    "# val_emb будет содержать текст, преобразованный с помощью LongTensor()\n",
    "val_emb = torch.LongTensor(text)\n",
    "# mask_emb будет содержать аналогично преобразованную маску\n",
    "mask_emb = torch.LongTensor(mask)\n",
    "with torch.no_grad(): # модель не дообучается\n",
    "    emb = model(val_emb, attention_mask=mask_emb) # сохраняем результат работы модели\n"
   ]
  },
  {
   "cell_type": "code",
   "execution_count": 230,
   "id": "e54dc3fb",
   "metadata": {},
   "outputs": [],
   "source": [
    "emb = emb[0][:,0,:].numpy()\n",
    "# переводим результат в двумерный массив"
   ]
  },
  {
   "cell_type": "code",
   "execution_count": 231,
   "id": "8e7399de",
   "metadata": {},
   "outputs": [],
   "source": [
    "emb = pd.DataFrame(emb)[chosen_indices]\n",
    "# выбираем нужные фичи из результата"
   ]
  },
  {
   "cell_type": "code",
   "execution_count": 233,
   "id": "dee4d966",
   "metadata": {},
   "outputs": [
    {
     "data": {
      "text/plain": [
       "array([1., 3., 1.])"
      ]
     },
     "execution_count": 233,
     "metadata": {},
     "output_type": "execute_result"
    }
   ],
   "source": [
    "log_cv.predict(emb)\n",
    "# получаем предсказания"
   ]
  },
  {
   "cell_type": "code",
   "execution_count": 234,
   "id": "923bba2c",
   "metadata": {
    "scrolled": true
   },
   "outputs": [
    {
     "data": {
      "text/plain": [
       "0    Баранина\n",
       "1    Говядина\n",
       "2     Индейка\n",
       "3        Кура\n",
       "4     Свинина\n",
       "5    Цыпленок\n",
       "dtype: object"
      ]
     },
     "execution_count": 234,
     "metadata": {},
     "output_type": "execute_result"
    }
   ],
   "source": [
    "classes\n",
    "# выводим классы чтоб сравнить результат"
   ]
  },
  {
   "cell_type": "markdown",
   "id": "8649e1ea",
   "metadata": {},
   "source": [
    "- Образцы:\n",
    "    - Говядина блочная 2 сорт в наличии ООО \"АгроСоюз\" реализует блочную говядину 2 сорт (80/20) Свободный объем 8 тонн Самовывоз или доставка. Все подробности по телефону.\n",
    "\n",
    "    - Куриная разделка Продам кур и куриную разделку гост и халяль по хорошей цене .Тел:\n",
    "\n",
    "    - Говяжью мукозу Продам говяжью мукозу в охл и замороженном виде. Есть объем.\n",
    "   \n",
    "- Предсказанные классы:\n",
    "    - говядина\n",
    "    - кура\n",
    "    - говядина\n",
    "    \n",
    "Таким образом, предложенный метод позволил верно классифицировать предложенные заказчиком образцы."
   ]
  },
  {
   "cell_type": "markdown",
   "id": "1f6e74f0",
   "metadata": {},
   "source": [
    "## Вывод\n",
    "\n",
    "### Цель работы:\n",
    "Построить модель машинного обучения для классификации продукции по текстовому описанию.\n",
    "### Материалы и методы:\n",
    "- Работа выполнена на датасете, предоставленном заказчиком, содержащем описание продукции и ее класс.\n",
    "- В работе применялись средства Python, библиотек Pandas, NumPy, re, tqdm. Задачи машинного обучения решались с помощью torch, transformers, sklearn, lightgbm.\n",
    "\n",
    "### Ход выполнения проекта:\n",
    "- удалены пропуски и выбросы в данных;\n",
    "- текст очищен и токенизирован;\n",
    "- построены эмбеддинги;\n",
    "- выбраны наиболее значимые обучающие признаки;\n",
    "- на полученных данных обучены модели классификации LGBMClassifier и LogisticRegression;\n",
    "- оптимальная модель проверена на тестовой выборке и на образцах, полученных от заказчика.\n",
    "\n",
    "### Результат работы:\n",
    "Предложен метод классификации товара по текстовому описанию, включающий следующие этапы:\n",
    "- очистка от выбросов и подготовка текста;\n",
    "- токенизация с помощью BertTokenizer;\n",
    "- создание эмбеддингов средствами PyTorch и BERT;\n",
    "- классификация с помощью LogisticRegression.\n",
    "\n",
    "Данный метод показал значение accuracy 0.83 на тестовой выборке.\n",
    "Образцы данных заказчика классифицированы верно в 3 случаях их 3."
   ]
  }
 ],
 "metadata": {
  "kernelspec": {
   "display_name": "Python 3 (ipykernel)",
   "language": "python",
   "name": "python3"
  },
  "language_info": {
   "codemirror_mode": {
    "name": "ipython",
    "version": 3
   },
   "file_extension": ".py",
   "mimetype": "text/x-python",
   "name": "python",
   "nbconvert_exporter": "python",
   "pygments_lexer": "ipython3",
   "version": "3.9.13"
  }
 },
 "nbformat": 4,
 "nbformat_minor": 5
}
